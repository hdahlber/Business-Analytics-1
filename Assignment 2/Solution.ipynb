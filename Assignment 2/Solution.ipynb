{
 "cells": [
  {
   "cell_type": "code",
   "execution_count": 2,
   "id": "d45db046",
   "metadata": {},
   "outputs": [],
   "source": [
    "#import of pandas and numpy\n",
    "import pandas as pd\n",
    "import numpy as np"
   ]
  },
  {
   "cell_type": "code",
   "execution_count": 17,
   "id": "0e72714c",
   "metadata": {},
   "outputs": [
    {
     "data": {
      "text/html": [
       "<div>\n",
       "<style scoped>\n",
       "    .dataframe tbody tr th:only-of-type {\n",
       "        vertical-align: middle;\n",
       "    }\n",
       "\n",
       "    .dataframe tbody tr th {\n",
       "        vertical-align: top;\n",
       "    }\n",
       "\n",
       "    .dataframe thead th {\n",
       "        text-align: right;\n",
       "    }\n",
       "</style>\n",
       "<table border=\"1\" class=\"dataframe\">\n",
       "  <thead>\n",
       "    <tr style=\"text-align: right;\">\n",
       "      <th></th>\n",
       "      <th>ID</th>\n",
       "      <th>Education</th>\n",
       "      <th>Marital_Status</th>\n",
       "      <th>Income</th>\n",
       "      <th>Country</th>\n",
       "      <th>Age</th>\n",
       "      <th>Children</th>\n",
       "    </tr>\n",
       "  </thead>\n",
       "  <tbody>\n",
       "    <tr>\n",
       "      <th>0</th>\n",
       "      <td>0</td>\n",
       "      <td>Graduation</td>\n",
       "      <td>Married</td>\n",
       "      <td>70951.0</td>\n",
       "      <td>SA</td>\n",
       "      <td>37</td>\n",
       "      <td>0</td>\n",
       "    </tr>\n",
       "    <tr>\n",
       "      <th>1</th>\n",
       "      <td>1</td>\n",
       "      <td>Graduation</td>\n",
       "      <td>Single</td>\n",
       "      <td>57091.0</td>\n",
       "      <td>CA</td>\n",
       "      <td>61</td>\n",
       "      <td>0</td>\n",
       "    </tr>\n",
       "    <tr>\n",
       "      <th>2</th>\n",
       "      <td>9</td>\n",
       "      <td>Master</td>\n",
       "      <td>Single</td>\n",
       "      <td>46098.0</td>\n",
       "      <td>CA</td>\n",
       "      <td>47</td>\n",
       "      <td>2</td>\n",
       "    </tr>\n",
       "    <tr>\n",
       "      <th>3</th>\n",
       "      <td>13</td>\n",
       "      <td>PhD</td>\n",
       "      <td>Widow</td>\n",
       "      <td>25358.0</td>\n",
       "      <td>SA</td>\n",
       "      <td>75</td>\n",
       "      <td>1</td>\n",
       "    </tr>\n",
       "    <tr>\n",
       "      <th>4</th>\n",
       "      <td>17</td>\n",
       "      <td>PhD</td>\n",
       "      <td>Married</td>\n",
       "      <td>60491.0</td>\n",
       "      <td>SP</td>\n",
       "      <td>51</td>\n",
       "      <td>1</td>\n",
       "    </tr>\n",
       "    <tr>\n",
       "      <th>...</th>\n",
       "      <td>...</td>\n",
       "      <td>...</td>\n",
       "      <td>...</td>\n",
       "      <td>...</td>\n",
       "      <td>...</td>\n",
       "      <td>...</td>\n",
       "      <td>...</td>\n",
       "    </tr>\n",
       "    <tr>\n",
       "      <th>2211</th>\n",
       "      <td>11178</td>\n",
       "      <td>Master</td>\n",
       "      <td>Single</td>\n",
       "      <td>42394.0</td>\n",
       "      <td>GER</td>\n",
       "      <td>50</td>\n",
       "      <td>1</td>\n",
       "    </tr>\n",
       "    <tr>\n",
       "      <th>2212</th>\n",
       "      <td>11181</td>\n",
       "      <td>PhD</td>\n",
       "      <td>Married</td>\n",
       "      <td>156924.0</td>\n",
       "      <td>CA</td>\n",
       "      <td>73</td>\n",
       "      <td>0</td>\n",
       "    </tr>\n",
       "    <tr>\n",
       "      <th>2213</th>\n",
       "      <td>11187</td>\n",
       "      <td>Basic</td>\n",
       "      <td>Single</td>\n",
       "      <td>26487.0</td>\n",
       "      <td>CA</td>\n",
       "      <td>44</td>\n",
       "      <td>1</td>\n",
       "    </tr>\n",
       "    <tr>\n",
       "      <th>2214</th>\n",
       "      <td>11188</td>\n",
       "      <td>Graduation</td>\n",
       "      <td>Together</td>\n",
       "      <td>26091.0</td>\n",
       "      <td>SP</td>\n",
       "      <td>65</td>\n",
       "      <td>2</td>\n",
       "    </tr>\n",
       "    <tr>\n",
       "      <th>2215</th>\n",
       "      <td>11191</td>\n",
       "      <td>Graduation</td>\n",
       "      <td>Divorced</td>\n",
       "      <td>41411.0</td>\n",
       "      <td>SP</td>\n",
       "      <td>36</td>\n",
       "      <td>0</td>\n",
       "    </tr>\n",
       "  </tbody>\n",
       "</table>\n",
       "<p>2216 rows × 7 columns</p>\n",
       "</div>"
      ],
      "text/plain": [
       "         ID   Education Marital_Status    Income Country  Age  Children\n",
       "0         0  Graduation        Married   70951.0      SA   37         0\n",
       "1         1  Graduation         Single   57091.0      CA   61         0\n",
       "2         9      Master         Single   46098.0      CA   47         2\n",
       "3        13         PhD          Widow   25358.0      SA   75         1\n",
       "4        17         PhD        Married   60491.0      SP   51         1\n",
       "...     ...         ...            ...       ...     ...  ...       ...\n",
       "2211  11178      Master         Single   42394.0     GER   50         1\n",
       "2212  11181         PhD        Married  156924.0      CA   73         0\n",
       "2213  11187       Basic         Single   26487.0      CA   44         1\n",
       "2214  11188  Graduation       Together   26091.0      SP   65         2\n",
       "2215  11191  Graduation       Divorced   41411.0      SP   36         0\n",
       "\n",
       "[2216 rows x 7 columns]"
      ]
     },
     "execution_count": 17,
     "metadata": {},
     "output_type": "execute_result"
    }
   ],
   "source": [
    "#imports dataset\n",
    "\n",
    "marketing_demo_raw_data = pd.read_csv(\"Datasets/marketing_demographics.csv\")\n",
    "marketing_demo_raw_data"
   ]
  },
  {
   "cell_type": "code",
   "execution_count": 15,
   "id": "17591260",
   "metadata": {},
   "outputs": [
    {
     "data": {
      "text/html": [
       "<div>\n",
       "<style scoped>\n",
       "    .dataframe tbody tr th:only-of-type {\n",
       "        vertical-align: middle;\n",
       "    }\n",
       "\n",
       "    .dataframe tbody tr th {\n",
       "        vertical-align: top;\n",
       "    }\n",
       "\n",
       "    .dataframe thead th {\n",
       "        text-align: right;\n",
       "    }\n",
       "</style>\n",
       "<table border=\"1\" class=\"dataframe\">\n",
       "  <thead>\n",
       "    <tr style=\"text-align: right;\">\n",
       "      <th></th>\n",
       "      <th>ID</th>\n",
       "      <th>Total_Amount</th>\n",
       "      <th>Total_Purchase</th>\n",
       "      <th>Web_Purchase</th>\n",
       "      <th>Store_Purchase</th>\n",
       "      <th>Accepted_Campaigns</th>\n",
       "      <th>Website_Visit</th>\n",
       "      <th>Complaint</th>\n",
       "      <th>Response</th>\n",
       "    </tr>\n",
       "  </thead>\n",
       "  <tbody>\n",
       "    <tr>\n",
       "      <th>1491</th>\n",
       "      <td>0</td>\n",
       "      <td>1198</td>\n",
       "      <td>16</td>\n",
       "      <td>3</td>\n",
       "      <td>13</td>\n",
       "      <td>0</td>\n",
       "      <td>1</td>\n",
       "      <td>0</td>\n",
       "      <td>0</td>\n",
       "    </tr>\n",
       "    <tr>\n",
       "      <th>1</th>\n",
       "      <td>1</td>\n",
       "      <td>577</td>\n",
       "      <td>17</td>\n",
       "      <td>7</td>\n",
       "      <td>10</td>\n",
       "      <td>1</td>\n",
       "      <td>5</td>\n",
       "      <td>0</td>\n",
       "      <td>1</td>\n",
       "    </tr>\n",
       "    <tr>\n",
       "      <th>1937</th>\n",
       "      <td>9</td>\n",
       "      <td>120</td>\n",
       "      <td>7</td>\n",
       "      <td>3</td>\n",
       "      <td>4</td>\n",
       "      <td>0</td>\n",
       "      <td>8</td>\n",
       "      <td>0</td>\n",
       "      <td>0</td>\n",
       "    </tr>\n",
       "    <tr>\n",
       "      <th>1300</th>\n",
       "      <td>13</td>\n",
       "      <td>32</td>\n",
       "      <td>4</td>\n",
       "      <td>1</td>\n",
       "      <td>3</td>\n",
       "      <td>0</td>\n",
       "      <td>6</td>\n",
       "      <td>0</td>\n",
       "      <td>0</td>\n",
       "    </tr>\n",
       "    <tr>\n",
       "      <th>1818</th>\n",
       "      <td>17</td>\n",
       "      <td>1028</td>\n",
       "      <td>24</td>\n",
       "      <td>6</td>\n",
       "      <td>18</td>\n",
       "      <td>0</td>\n",
       "      <td>5</td>\n",
       "      <td>0</td>\n",
       "      <td>0</td>\n",
       "    </tr>\n",
       "    <tr>\n",
       "      <th>...</th>\n",
       "      <td>...</td>\n",
       "      <td>...</td>\n",
       "      <td>...</td>\n",
       "      <td>...</td>\n",
       "      <td>...</td>\n",
       "      <td>...</td>\n",
       "      <td>...</td>\n",
       "      <td>...</td>\n",
       "      <td>...</td>\n",
       "    </tr>\n",
       "    <tr>\n",
       "      <th>1541</th>\n",
       "      <td>11178</td>\n",
       "      <td>32</td>\n",
       "      <td>4</td>\n",
       "      <td>1</td>\n",
       "      <td>3</td>\n",
       "      <td>0</td>\n",
       "      <td>7</td>\n",
       "      <td>0</td>\n",
       "      <td>0</td>\n",
       "    </tr>\n",
       "    <tr>\n",
       "      <th>1906</th>\n",
       "      <td>11181</td>\n",
       "      <td>8</td>\n",
       "      <td>0</td>\n",
       "      <td>0</td>\n",
       "      <td>0</td>\n",
       "      <td>0</td>\n",
       "      <td>0</td>\n",
       "      <td>0</td>\n",
       "      <td>0</td>\n",
       "    </tr>\n",
       "    <tr>\n",
       "      <th>524</th>\n",
       "      <td>11187</td>\n",
       "      <td>69</td>\n",
       "      <td>6</td>\n",
       "      <td>2</td>\n",
       "      <td>4</td>\n",
       "      <td>0</td>\n",
       "      <td>5</td>\n",
       "      <td>0</td>\n",
       "      <td>0</td>\n",
       "    </tr>\n",
       "    <tr>\n",
       "      <th>1878</th>\n",
       "      <td>11188</td>\n",
       "      <td>89</td>\n",
       "      <td>6</td>\n",
       "      <td>2</td>\n",
       "      <td>4</td>\n",
       "      <td>0</td>\n",
       "      <td>5</td>\n",
       "      <td>0</td>\n",
       "      <td>0</td>\n",
       "    </tr>\n",
       "    <tr>\n",
       "      <th>260</th>\n",
       "      <td>11191</td>\n",
       "      <td>139</td>\n",
       "      <td>7</td>\n",
       "      <td>2</td>\n",
       "      <td>5</td>\n",
       "      <td>0</td>\n",
       "      <td>6</td>\n",
       "      <td>0</td>\n",
       "      <td>0</td>\n",
       "    </tr>\n",
       "  </tbody>\n",
       "</table>\n",
       "<p>2216 rows × 9 columns</p>\n",
       "</div>"
      ],
      "text/plain": [
       "         ID  Total_Amount  Total_Purchase  Web_Purchase  Store_Purchase  \\\n",
       "1491      0          1198              16             3              13   \n",
       "1         1           577              17             7              10   \n",
       "1937      9           120               7             3               4   \n",
       "1300     13            32               4             1               3   \n",
       "1818     17          1028              24             6              18   \n",
       "...     ...           ...             ...           ...             ...   \n",
       "1541  11178            32               4             1               3   \n",
       "1906  11181             8               0             0               0   \n",
       "524   11187            69               6             2               4   \n",
       "1878  11188            89               6             2               4   \n",
       "260   11191           139               7             2               5   \n",
       "\n",
       "      Accepted_Campaigns  Website_Visit  Complaint  Response  \n",
       "1491                   0              1          0         0  \n",
       "1                      1              5          0         1  \n",
       "1937                   0              8          0         0  \n",
       "1300                   0              6          0         0  \n",
       "1818                   0              5          0         0  \n",
       "...                  ...            ...        ...       ...  \n",
       "1541                   0              7          0         0  \n",
       "1906                   0              0          0         0  \n",
       "524                    0              5          0         0  \n",
       "1878                   0              5          0         0  \n",
       "260                    0              6          0         0  \n",
       "\n",
       "[2216 rows x 9 columns]"
      ]
     },
     "execution_count": 15,
     "metadata": {},
     "output_type": "execute_result"
    }
   ],
   "source": [
    "#imports dataset\n",
    "marketing_buss_raw_data = pd.read_csv(\"Datasets/marketing_business.csv\")\n",
    "marketing_buss_raw_data"
   ]
  },
  {
   "cell_type": "code",
   "execution_count": 115,
   "id": "c0092238",
   "metadata": {},
   "outputs": [],
   "source": [
    "#join datasets on ID\n",
    "marketing_raw_data= marketing_buss_raw_data.set_index(\"ID\").join(marketing_demo_raw_data.set_index(\"ID\"))"
   ]
  },
  {
   "cell_type": "markdown",
   "id": "b7ae58cf",
   "metadata": {},
   "source": [
    "# Task 1.1\n",
    "Calculate the average of ’Total Amount’ and ’Total Purchase’ for each Education category. Do you\n",
    "find the same category to have the highest average for both amount and purchase?\n",
    "\n",
    "Answer: YES, PhD has the highest both in Amount and Purchase"
   ]
  },
  {
   "cell_type": "code",
   "execution_count": 139,
   "id": "42f21633",
   "metadata": {},
   "outputs": [],
   "source": [
    "task1_1_data = marketing_raw_data[[\"Total_Amount\",\"Total_Purchase\",\"Education\"]]"
   ]
  },
  {
   "cell_type": "code",
   "execution_count": 140,
   "id": "8d6d3dc1",
   "metadata": {},
   "outputs": [
    {
     "name": "stdout",
     "output_type": "stream",
     "text": [
      "False\n"
     ]
    }
   ],
   "source": [
    "#check for nan values\n",
    "print(task1_1_data.isnull().sum().any())"
   ]
  },
  {
   "cell_type": "code",
   "execution_count": 141,
   "id": "c9b9d33b",
   "metadata": {},
   "outputs": [
    {
     "data": {
      "text/html": [
       "<div>\n",
       "<style scoped>\n",
       "    .dataframe tbody tr th:only-of-type {\n",
       "        vertical-align: middle;\n",
       "    }\n",
       "\n",
       "    .dataframe tbody tr th {\n",
       "        vertical-align: top;\n",
       "    }\n",
       "\n",
       "    .dataframe thead th {\n",
       "        text-align: right;\n",
       "    }\n",
       "</style>\n",
       "<table border=\"1\" class=\"dataframe\">\n",
       "  <thead>\n",
       "    <tr style=\"text-align: right;\">\n",
       "      <th></th>\n",
       "      <th>Total_Amount</th>\n",
       "      <th>Total_Purchase</th>\n",
       "    </tr>\n",
       "    <tr>\n",
       "      <th>Education</th>\n",
       "      <th></th>\n",
       "      <th></th>\n",
       "    </tr>\n",
       "  </thead>\n",
       "  <tbody>\n",
       "    <tr>\n",
       "      <th>2n Cycle</th>\n",
       "      <td>494.930000</td>\n",
       "      <td>11.680000</td>\n",
       "    </tr>\n",
       "    <tr>\n",
       "      <th>Basic</th>\n",
       "      <td>81.796296</td>\n",
       "      <td>5.222222</td>\n",
       "    </tr>\n",
       "    <tr>\n",
       "      <th>Graduation</th>\n",
       "      <td>621.686380</td>\n",
       "      <td>12.695341</td>\n",
       "    </tr>\n",
       "    <tr>\n",
       "      <th>Master</th>\n",
       "      <td>609.767123</td>\n",
       "      <td>12.468493</td>\n",
       "    </tr>\n",
       "    <tr>\n",
       "      <th>PhD</th>\n",
       "      <td>676.733888</td>\n",
       "      <td>13.492723</td>\n",
       "    </tr>\n",
       "  </tbody>\n",
       "</table>\n",
       "</div>"
      ],
      "text/plain": [
       "            Total_Amount  Total_Purchase\n",
       "Education                               \n",
       "2n Cycle      494.930000       11.680000\n",
       "Basic          81.796296        5.222222\n",
       "Graduation    621.686380       12.695341\n",
       "Master        609.767123       12.468493\n",
       "PhD           676.733888       13.492723"
      ]
     },
     "execution_count": 141,
     "metadata": {},
     "output_type": "execute_result"
    }
   ],
   "source": [
    "task1_1_data.groupby(\"Education\").mean()"
   ]
  },
  {
   "cell_type": "markdown",
   "id": "d278ed4f",
   "metadata": {},
   "source": [
    "# Task 1.2\n",
    "Filter your data for countries from which there is at least 200 customers. From which country in this\n",
    "filtered dataset you can find the most complaints (column Complaint)\n",
    "\n",
    "# Answer:\n",
    "SP = Spain?"
   ]
  },
  {
   "cell_type": "code",
   "execution_count": 142,
   "id": "4d362a88",
   "metadata": {},
   "outputs": [
    {
     "name": "stdout",
     "output_type": "stream",
     "text": [
      "False\n"
     ]
    }
   ],
   "source": [
    "task1_2_data = marketing_raw_data.loc[:, (\"Complaint\",\"Country\")]\n",
    "print(task1_2_data.isnull().sum().any())"
   ]
  },
  {
   "cell_type": "code",
   "execution_count": 143,
   "id": "f1ca0888",
   "metadata": {},
   "outputs": [
    {
     "name": "stdout",
     "output_type": "stream",
     "text": [
      "Country\n",
      "CA     2\n",
      "SA     3\n",
      "SP    14\n",
      "Name: Complaint, dtype: int64\n"
     ]
    }
   ],
   "source": [
    "complaint_counts = task1_2_data.groupby(\"Country\")[\"Complaint\"].transform(\"count\")\n",
    "mask = complaint_counts >= 200\n",
    "new_df = task1_2_data[mask]\n",
    "print(new_df.groupby(\"Country\")[\"Complaint\"].sum())\n"
   ]
  },
  {
   "cell_type": "markdown",
   "id": "d3a461ec",
   "metadata": {},
   "source": [
    "# Task 1.3\n",
    "Calculate a new column that is 0, if the customer has 0 children, and 1 otherwise (so if the customer\n",
    "has at least 1 child). Do customers with or without children have higher average Income? Check\n",
    "whether the difference is statistically significant using a t-test!\n",
    "\n",
    "# Answer:\n",
    "People without children have an higher income.\n",
    "The difference is statistically signigicant as the T value is -16.907 which indicates there is a significant difference between income without children then with children. Also as our p-test value for our null hypothesis \"There is no difference between customers with or without kids\" is pretty much zero, so there is strong evidence that our findings."
   ]
  },
  {
   "cell_type": "code",
   "execution_count": 144,
   "id": "18efb49d",
   "metadata": {},
   "outputs": [
    {
     "name": "stdout",
     "output_type": "stream",
     "text": [
      "False\n"
     ]
    }
   ],
   "source": [
    "task1_3_data =  marketing_raw_data.loc[:, (\"Children\", \"Income\")]\n",
    "print(task1_3_data.isnull().sum().any())"
   ]
  },
  {
   "cell_type": "code",
   "execution_count": 145,
   "id": "c5354b16",
   "metadata": {},
   "outputs": [
    {
     "name": "stdout",
     "output_type": "stream",
     "text": [
      "HasChildren\n",
      "0    65705.565561\n",
      "1    46865.626027\n",
      "Name: Income, dtype: float64\n"
     ]
    }
   ],
   "source": [
    "task1_3_data[\"HasChildren\"] = task1_3_data[\"Children\"].apply(lambda x: 0 if x == 0 else 1)\n",
    "print(task1_3_data.groupby(\"HasChildren\")[\"Income\"].mean())"
   ]
  },
  {
   "cell_type": "code",
   "execution_count": 146,
   "id": "ab3ece4c",
   "metadata": {},
   "outputs": [
    {
     "name": "stdout",
     "output_type": "stream",
     "text": [
      "t-value:  -16.9071717250489\n",
      "p-value:  2.08492231266765e-60\n"
     ]
    }
   ],
   "source": [
    "# t-test import scipys own t test\n",
    "from scipy.stats import ttest_ind\n",
    "\n",
    "income_with_children = task1_3_data.loc[task1_3_data[\"HasChildren\"] == 1, \"Income\"]\n",
    "income_without_children = task1_3_data.loc[task1_3_data[\"HasChildren\"] == 0, \"Income\"]\n",
    "t, p = ttest_ind(income_with_children, income_without_children)\n",
    "print(\"t-value: \", t)\n",
    "print(\"p-value: \", p)"
   ]
  },
  {
   "cell_type": "markdown",
   "id": "577bbcf2",
   "metadata": {},
   "source": [
    "# Task 1.4\n",
    "The company believes that their main target group is the customers aged between 18 and 45 years.\n",
    "To check whether it is reflected in the sales, check whether the average number of Web Purchase is\n",
    "higher for the customers in the target age group than for other customers. Do you have the same\n",
    "result when you use Store Purchase? (Hint: you can create a new column that is 1 when the customer\n",
    "is in the target age group and 0 otherwise).\n",
    "\n",
    "# Answer:\n",
    "The not targeted group has a higher average amount of number of Web Purchases.\n",
    "\n",
    "The not targeted group has a higher average amount of number of Store Purchases."
   ]
  },
  {
   "cell_type": "code",
   "execution_count": 147,
   "id": "23997236",
   "metadata": {},
   "outputs": [
    {
     "name": "stdout",
     "output_type": "stream",
     "text": [
      "False\n"
     ]
    }
   ],
   "source": [
    "task1_4_data =  marketing_raw_data.loc[:, (\"Store_Purchase\",\"Web_Purchase\", \"Age\")]\n",
    "print(task1_4_data.isnull().sum().any())"
   ]
  },
  {
   "cell_type": "code",
   "execution_count": 148,
   "id": "8cd921af",
   "metadata": {},
   "outputs": [
    {
     "name": "stdout",
     "output_type": "stream",
     "text": [
      "Age_target\n",
      "0    4.293317\n",
      "1    3.525000\n",
      "Name: Web_Purchase, dtype: float64\n",
      "Age_target\n",
      "0    8.762995\n",
      "1    7.688333\n",
      "Name: Store_Purchase, dtype: float64\n"
     ]
    }
   ],
   "source": [
    "\n",
    "task1_4_data[\"Age_target\"] = task1_4_data[\"Age\"].apply(lambda x: 1 if 18<=x<=45 else 0)\n",
    "# Web_purchase\n",
    "print(task1_4_data.groupby(\"Age_target\")[\"Web_Purchase\"].mean())\n",
    "# Store_purchase\n",
    "print(task1_4_data.groupby(\"Age_target\")[\"Store_Purchase\"].mean())"
   ]
  },
  {
   "cell_type": "markdown",
   "id": "94af304d",
   "metadata": {},
   "source": [
    "# Task 1.5\n",
    "Calculate the correlation between the columns Total Purchase, Age, and Income. Which of the\n",
    "other two variables seem to be more related to Total Purchase? Based on this and the previous\n",
    "question, do you think it would be useful for the company to focus a lot of efforts on age-based\n",
    "segmentation/marketing?\n",
    "# Answer:\n",
    "Income and Total_Purchase has a moderate positiv correlation while Age and Total_Purchases has only a very week positiv correlation. So I would not focus my efforts on age-based marketing. \n"
   ]
  },
  {
   "cell_type": "code",
   "execution_count": 166,
   "id": "ba8795df",
   "metadata": {},
   "outputs": [
    {
     "name": "stdout",
     "output_type": "stream",
     "text": [
      "False\n"
     ]
    }
   ],
   "source": [
    "task1_5_data =  marketing_raw_data.loc[:, (\"Total_Purchase\",\"Age\", \"Income\")]\n",
    "\n",
    "print(task1_5_data.isnull().sum().any())"
   ]
  },
  {
   "cell_type": "code",
   "execution_count": 167,
   "id": "758b3c29",
   "metadata": {},
   "outputs": [
    {
     "name": "stdout",
     "output_type": "stream",
     "text": [
      "                Total_Purchase       Age    Income\n",
      "Total_Purchase        1.000000  0.165397  0.625755\n",
      "Age                   0.165397  1.000000  0.161791\n",
      "Income                0.625755  0.161791  1.000000\n"
     ]
    }
   ],
   "source": [
    "print(task1_5_data.corr())\n"
   ]
  },
  {
   "cell_type": "code",
   "execution_count": null,
   "id": "7fdaaa32",
   "metadata": {},
   "outputs": [],
   "source": []
  }
 ],
 "metadata": {
  "kernelspec": {
   "display_name": "Python 3 (ipykernel)",
   "language": "python",
   "name": "python3"
  },
  "language_info": {
   "codemirror_mode": {
    "name": "ipython",
    "version": 3
   },
   "file_extension": ".py",
   "mimetype": "text/x-python",
   "name": "python",
   "nbconvert_exporter": "python",
   "pygments_lexer": "ipython3",
   "version": "3.9.13"
  }
 },
 "nbformat": 4,
 "nbformat_minor": 5
}
