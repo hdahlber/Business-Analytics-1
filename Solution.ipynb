{
 "cells": [
  {
   "cell_type": "code",
   "execution_count": 2,
   "id": "21f34e15",
   "metadata": {},
   "outputs": [
    {
     "data": {
      "text/plain": [
       "'\\n(12 points) In this task, you have to work with a dataset in the file rotten tomatoes top movies.csv.\\nYou can find more information about the data at https://www.kaggle.com/datasets/thedevastator/\\nrotten-tomatoes-top-movies-ratings-and-technical. The data provides some information about\\nmovies and their rating on the Rotten Tomatoes site. By making use of the basic data analysis tools\\nintroduced in the course, answer the following questions:\\n\\n'"
      ]
     },
     "execution_count": 2,
     "metadata": {},
     "output_type": "execute_result"
    }
   ],
   "source": [
    "\"\"\"\n",
    "    (12 points) In this task, you have to work with a dataset in the file rotten tomatoes top movies.csv.\n",
    "    You can find more information about the data at https://www.kaggle.com/datasets/thedevastator/\n",
    "    rotten-tomatoes-top-movies-ratings-and-technical. The data provides some information about\n",
    "    movies and their rating on the Rotten Tomatoes site. By making use of the basic data analysis tools\n",
    "    introduced in the course, answer the following questions:\n",
    "\n",
    "\"\"\""
   ]
  },
  {
   "cell_type": "code",
   "execution_count": null,
   "id": "43152052",
   "metadata": {},
   "outputs": [],
   "source": [
    "##• Import the data and create a dataframe whcih consists of the following columns of interest: ’title’,\n",
    "##’year’, ’critic score’, ’people score’, ’total reviews’, ’total ratings’, ’rating’, ’type’, ’original language’,\n",
    "##’director’, ’release date (theaters)’, ’runtime’"
   ]
  },
  {
   "cell_type": "code",
   "execution_count": null,
   "id": "9e58bf2e",
   "metadata": {},
   "outputs": [],
   "source": []
  }
 ],
 "metadata": {
  "kernelspec": {
   "display_name": "Python 3 (ipykernel)",
   "language": "python",
   "name": "python3"
  },
  "language_info": {
   "codemirror_mode": {
    "name": "ipython",
    "version": 3
   },
   "file_extension": ".py",
   "mimetype": "text/x-python",
   "name": "python",
   "nbconvert_exporter": "python",
   "pygments_lexer": "ipython3",
   "version": "3.9.0"
  }
 },
 "nbformat": 4,
 "nbformat_minor": 5
}
